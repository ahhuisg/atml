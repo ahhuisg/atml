{
 "cells": [
  {
   "cell_type": "code",
   "execution_count": 1,
   "metadata": {},
   "outputs": [],
   "source": [
    "import os\n",
    "import sys\n",
    "module_path = os.path.abspath(os.path.join('..'))\n",
    "if module_path not in sys.path:\n",
    "    sys.path.append(module_path)"
   ]
  },
  {
   "cell_type": "code",
   "execution_count": 2,
   "metadata": {},
   "outputs": [],
   "source": [
    "import pandas as pd\n",
    "\n",
    "from atml import AtmlOrchestrator\n",
    "\n",
    "%load_ext autoreload\n",
    "%autoreload 2"
   ]
  },
  {
   "cell_type": "markdown",
   "metadata": {},
   "source": [
    "# Preparation"
   ]
  },
  {
   "cell_type": "markdown",
   "metadata": {},
   "source": [
    "### Load Data"
   ]
  },
  {
   "cell_type": "code",
   "execution_count": 3,
   "metadata": {},
   "outputs": [],
   "source": [
    "def load_test_data(data_filepath):\n",
    "    #data_filepath = \"../tuner/test/data/binary_data.csv\"\n",
    "\n",
    "    df = pd.read_csv(data_filepath)\n",
    "    \n",
    "    #TODO: remove later\n",
    "    df = df.dropna()\n",
    "    \n",
    "    X = df.drop('Survived', axis=1)\n",
    "    \n",
    "    #include_feature_columns = ['Sex', 'Embarked', 'Pclass', 'Age', 'SibSp', 'Parch', 'Fare']\n",
    "    include_feature_columns = ['Pclass', 'Age', 'SibSp', 'Parch', 'Fare']\n",
    "    \n",
    "    X = X[include_feature_columns]\n",
    "    label_columns = ['Survived']\n",
    "    y = df[label_columns]\n",
    "    \n",
    "    return X, y\n",
    "\n",
    "X, y = load_test_data(\"../test/data/binary_data.csv\")"
   ]
  },
  {
   "cell_type": "code",
   "execution_count": 4,
   "metadata": {},
   "outputs": [
    {
     "data": {
      "text/html": [
       "<div>\n",
       "<style scoped>\n",
       "    .dataframe tbody tr th:only-of-type {\n",
       "        vertical-align: middle;\n",
       "    }\n",
       "\n",
       "    .dataframe tbody tr th {\n",
       "        vertical-align: top;\n",
       "    }\n",
       "\n",
       "    .dataframe thead th {\n",
       "        text-align: right;\n",
       "    }\n",
       "</style>\n",
       "<table border=\"1\" class=\"dataframe\">\n",
       "  <thead>\n",
       "    <tr style=\"text-align: right;\">\n",
       "      <th></th>\n",
       "      <th>Pclass</th>\n",
       "      <th>Age</th>\n",
       "      <th>SibSp</th>\n",
       "      <th>Parch</th>\n",
       "      <th>Fare</th>\n",
       "    </tr>\n",
       "  </thead>\n",
       "  <tbody>\n",
       "    <tr>\n",
       "      <th>1</th>\n",
       "      <td>1</td>\n",
       "      <td>38.0</td>\n",
       "      <td>1</td>\n",
       "      <td>0</td>\n",
       "      <td>71.2833</td>\n",
       "    </tr>\n",
       "    <tr>\n",
       "      <th>3</th>\n",
       "      <td>1</td>\n",
       "      <td>35.0</td>\n",
       "      <td>1</td>\n",
       "      <td>0</td>\n",
       "      <td>53.1000</td>\n",
       "    </tr>\n",
       "    <tr>\n",
       "      <th>6</th>\n",
       "      <td>1</td>\n",
       "      <td>54.0</td>\n",
       "      <td>0</td>\n",
       "      <td>0</td>\n",
       "      <td>51.8625</td>\n",
       "    </tr>\n",
       "    <tr>\n",
       "      <th>10</th>\n",
       "      <td>3</td>\n",
       "      <td>4.0</td>\n",
       "      <td>1</td>\n",
       "      <td>1</td>\n",
       "      <td>16.7000</td>\n",
       "    </tr>\n",
       "    <tr>\n",
       "      <th>11</th>\n",
       "      <td>1</td>\n",
       "      <td>58.0</td>\n",
       "      <td>0</td>\n",
       "      <td>0</td>\n",
       "      <td>26.5500</td>\n",
       "    </tr>\n",
       "  </tbody>\n",
       "</table>\n",
       "</div>"
      ],
      "text/plain": [
       "    Pclass   Age  SibSp  Parch     Fare\n",
       "1        1  38.0      1      0  71.2833\n",
       "3        1  35.0      1      0  53.1000\n",
       "6        1  54.0      0      0  51.8625\n",
       "10       3   4.0      1      1  16.7000\n",
       "11       1  58.0      0      0  26.5500"
      ]
     },
     "execution_count": 4,
     "metadata": {},
     "output_type": "execute_result"
    }
   ],
   "source": [
    "X.head()"
   ]
  },
  {
   "cell_type": "code",
   "execution_count": 5,
   "metadata": {},
   "outputs": [
    {
     "data": {
      "text/html": [
       "<div>\n",
       "<style scoped>\n",
       "    .dataframe tbody tr th:only-of-type {\n",
       "        vertical-align: middle;\n",
       "    }\n",
       "\n",
       "    .dataframe tbody tr th {\n",
       "        vertical-align: top;\n",
       "    }\n",
       "\n",
       "    .dataframe thead th {\n",
       "        text-align: right;\n",
       "    }\n",
       "</style>\n",
       "<table border=\"1\" class=\"dataframe\">\n",
       "  <thead>\n",
       "    <tr style=\"text-align: right;\">\n",
       "      <th></th>\n",
       "      <th>Survived</th>\n",
       "    </tr>\n",
       "  </thead>\n",
       "  <tbody>\n",
       "    <tr>\n",
       "      <th>1</th>\n",
       "      <td>1</td>\n",
       "    </tr>\n",
       "    <tr>\n",
       "      <th>3</th>\n",
       "      <td>1</td>\n",
       "    </tr>\n",
       "    <tr>\n",
       "      <th>6</th>\n",
       "      <td>0</td>\n",
       "    </tr>\n",
       "    <tr>\n",
       "      <th>10</th>\n",
       "      <td>1</td>\n",
       "    </tr>\n",
       "    <tr>\n",
       "      <th>11</th>\n",
       "      <td>1</td>\n",
       "    </tr>\n",
       "  </tbody>\n",
       "</table>\n",
       "</div>"
      ],
      "text/plain": [
       "    Survived\n",
       "1          1\n",
       "3          1\n",
       "6          0\n",
       "10         1\n",
       "11         1"
      ]
     },
     "execution_count": 5,
     "metadata": {},
     "output_type": "execute_result"
    }
   ],
   "source": [
    "y.head()"
   ]
  },
  {
   "cell_type": "markdown",
   "metadata": {},
   "source": [
    "### Execution Control"
   ]
  },
  {
   "cell_type": "code",
   "execution_count": 6,
   "metadata": {},
   "outputs": [],
   "source": [
    "_DEFAULT_CONFIG = {\n",
    "    \"concurrency\": \"1\", # number of concurrent processors\n",
    "    \"max_duration\": \"1m\", # maximum time duration\n",
    "    \"max_trials\": \"3\", # maximum number of trails\n",
    "    \"training_platform\": \"local\", # local, remote\n",
    "    \"tuner\": \"TPE\" # TPE, Random, Anneal, Evolution, BatchTuner, MetisTuner\n",
    "}"
   ]
  },
  {
   "cell_type": "markdown",
   "metadata": {},
   "source": [
    "### Model Space"
   ]
  },
  {
   "cell_type": "code",
   "execution_count": 7,
   "metadata": {},
   "outputs": [],
   "source": [
    "_DEFAULT_SEARCH_SPACE = {\n",
    "    \"sklearn.ensemble.forest.RandomForestClassifier\": [\n",
    "        {\"property\": \"bootstrap\", \"type\": \"choice\", \"value\": [True, False]},\n",
    "        {\"property\": \"max_features\", \"type\": \"choice\", \"value\": ['auto', 'sqrt']},\n",
    "        {\"property\": \"max_depth\", \"type\": \"choice\", \"value\": [10, 20, 30, 40, 50, 60, 70, 80, 90, 100, None]},\n",
    "        {\"property\": \"n_estimators\", \"type\": \"choice\", \"value\": [200, 400, 600, 800, 1000, 1200, 1400, 1600, 1800, 2000]},\n",
    "        {\"property\": \"min_samples_leaf\", \"type\": \"choice\", \"value\": [1, 2, 4]},\n",
    "        {\"property\": \"min_samples_split\", \"type\": \"choice\", \"value\": [2, 5, 10]}\n",
    "    ]\n",
    "}"
   ]
  },
  {
   "cell_type": "markdown",
   "metadata": {},
   "source": [
    "# 1. Design Considerations\n",
    "* User-Friendliness is one of the most important considerations\n",
    "* Decouple User Flow development from Model development\n",
    "* An End-to-End working prototype has been developed and also integrated Shuji's SimpleClassifier with little hard-coding"
   ]
  },
  {
   "cell_type": "markdown",
   "metadata": {},
   "source": [
    "### 1.1 Default Run\n",
    "* User no need to input any configuration. They just need to provide training dataset\n",
    "* AutoML will search all the available models with default search spaces for the best model\n",
    "* The Execution is bounded with max duration and max number of trials\n",
    "* Each Model will get a Web UI for tracking the progress and results\n",
    "* At any point in time, User can stop the execution and get the best model\n",
    "* Using sqlite database to store the exeuction and model information and artefacts"
   ]
  },
  {
   "cell_type": "markdown",
   "metadata": {},
   "source": [
    "### 1.2 Customized Run - In addition to the default functionalities\n",
    "* User is able to choose the models as well as change the default search space\n",
    "* User is able to change the execution mechanism. ie. User can run the execution in Parallel to speed up"
   ]
  },
  {
   "cell_type": "markdown",
   "metadata": {},
   "source": [
    "# 2. Default Run - No Need Any Config"
   ]
  },
  {
   "cell_type": "code",
   "execution_count": 8,
   "metadata": {},
   "outputs": [
    {
     "name": "stderr",
     "output_type": "stream",
     "text": [
      "[I 200619 20:43:13 atml_impl:23] run_id: 20200619204313\n",
      "[I 200619 20:43:13 atml_impl:24] run_dir: C:\\Users\\Admin\\nni\\runs\\20200619204313\n",
      "[I 200619 20:43:13 atml_impl:25] with_default: True\n",
      "[I 200619 20:43:13 model_repo_manager:16] with_default: True\n",
      "[D 200619 20:43:13 nni_exec_manager:23] Default NNI Execution Config: {'base_port': '8080', 'concurrency': '8', 'max_duration': '30s', 'max_trials': '99999', 'training_platform': 'local', 'tuner': 'TPE', 'optimize_mode': 'maximize'}\n"
     ]
    }
   ],
   "source": [
    "auto_classifier = AtmlOrchestrator()"
   ]
  },
  {
   "cell_type": "code",
   "execution_count": 9,
   "metadata": {},
   "outputs": [
    {
     "name": "stderr",
     "output_type": "stream",
     "text": [
      "[I 200619 20:43:17 nni_exec_manager:50] Starting Hyperparameter Tuning with sklearn.ensemble.forest.RandomForestClassifier\n",
      "[I 200619 20:43:28 nni_exec_manager:100] http://localhost:8080 for sklearn.ensemble.forest.RandomForestClassifier Started\n"
     ]
    },
    {
     "name": "stdout",
     "output_type": "stream",
     "text": [
      "Experiment finished. 6 seconds taken. Number of trials succeeded: 7\n"
     ]
    },
    {
     "name": "stderr",
     "output_type": "stream",
     "text": [
      "[I 200619 20:44:12 nni_exec_manager:100] http://localhost:8080 for sklearn.ensemble.forest.RandomForestClassifier Stopped\n"
     ]
    }
   ],
   "source": [
    "auto_classifier.run(X, y)"
   ]
  },
  {
   "cell_type": "code",
   "execution_count": 10,
   "metadata": {},
   "outputs": [
    {
     "data": {
      "text/html": [
       "<div>\n",
       "<style scoped>\n",
       "    .dataframe tbody tr th:only-of-type {\n",
       "        vertical-align: middle;\n",
       "    }\n",
       "\n",
       "    .dataframe tbody tr th {\n",
       "        vertical-align: top;\n",
       "    }\n",
       "\n",
       "    .dataframe thead th {\n",
       "        text-align: right;\n",
       "    }\n",
       "</style>\n",
       "<table border=\"1\" class=\"dataframe\">\n",
       "  <thead>\n",
       "    <tr style=\"text-align: right;\">\n",
       "      <th></th>\n",
       "      <th>RUN_ID</th>\n",
       "      <th>EXP_ID</th>\n",
       "      <th>TRIAL_ID</th>\n",
       "      <th>MODEL_KEY</th>\n",
       "      <th>METRIC</th>\n",
       "      <th>MODEL</th>\n",
       "      <th>PARAMS</th>\n",
       "      <th>EXCEPTION</th>\n",
       "    </tr>\n",
       "  </thead>\n",
       "  <tbody>\n",
       "    <tr>\n",
       "      <th>0</th>\n",
       "      <td>20200619204313</td>\n",
       "      <td>ukqCuWWK</td>\n",
       "      <td>NRpDi</td>\n",
       "      <td>sklearn.ensemble.forest.RandomForestClassifier</td>\n",
       "      <td>0.702703</td>\n",
       "      <td>(DecisionTreeClassifier(class_weight=None, cri...</td>\n",
       "      <td>{'bootstrap': False, 'max_depth': 90, 'max_fea...</td>\n",
       "      <td>None</td>\n",
       "    </tr>\n",
       "    <tr>\n",
       "      <th>1</th>\n",
       "      <td>20200619204313</td>\n",
       "      <td>ukqCuWWK</td>\n",
       "      <td>PKprl</td>\n",
       "      <td>sklearn.ensemble.forest.RandomForestClassifier</td>\n",
       "      <td>0.702703</td>\n",
       "      <td>(DecisionTreeClassifier(class_weight=None, cri...</td>\n",
       "      <td>{'bootstrap': True, 'max_depth': 70, 'max_feat...</td>\n",
       "      <td>None</td>\n",
       "    </tr>\n",
       "    <tr>\n",
       "      <th>2</th>\n",
       "      <td>20200619204313</td>\n",
       "      <td>ukqCuWWK</td>\n",
       "      <td>YhUB0</td>\n",
       "      <td>sklearn.ensemble.forest.RandomForestClassifier</td>\n",
       "      <td>0.702703</td>\n",
       "      <td>(DecisionTreeClassifier(class_weight=None, cri...</td>\n",
       "      <td>{'bootstrap': True, 'max_depth': 60, 'max_feat...</td>\n",
       "      <td>None</td>\n",
       "    </tr>\n",
       "    <tr>\n",
       "      <th>3</th>\n",
       "      <td>20200619204313</td>\n",
       "      <td>ukqCuWWK</td>\n",
       "      <td>cTsYo</td>\n",
       "      <td>sklearn.ensemble.forest.RandomForestClassifier</td>\n",
       "      <td>0.702703</td>\n",
       "      <td>(DecisionTreeClassifier(class_weight=None, cri...</td>\n",
       "      <td>{'bootstrap': False, 'max_depth': 10, 'max_fea...</td>\n",
       "      <td>None</td>\n",
       "    </tr>\n",
       "    <tr>\n",
       "      <th>4</th>\n",
       "      <td>20200619204313</td>\n",
       "      <td>ukqCuWWK</td>\n",
       "      <td>iOut2</td>\n",
       "      <td>sklearn.ensemble.forest.RandomForestClassifier</td>\n",
       "      <td>0.702703</td>\n",
       "      <td>(DecisionTreeClassifier(class_weight=None, cri...</td>\n",
       "      <td>{'bootstrap': False, 'max_depth': 70, 'max_fea...</td>\n",
       "      <td>None</td>\n",
       "    </tr>\n",
       "    <tr>\n",
       "      <th>5</th>\n",
       "      <td>20200619204313</td>\n",
       "      <td>ukqCuWWK</td>\n",
       "      <td>rpEoN</td>\n",
       "      <td>sklearn.ensemble.forest.RandomForestClassifier</td>\n",
       "      <td>0.702703</td>\n",
       "      <td>(DecisionTreeClassifier(class_weight=None, cri...</td>\n",
       "      <td>{'bootstrap': False, 'max_depth': 50, 'max_fea...</td>\n",
       "      <td>None</td>\n",
       "    </tr>\n",
       "    <tr>\n",
       "      <th>6</th>\n",
       "      <td>20200619204313</td>\n",
       "      <td>ukqCuWWK</td>\n",
       "      <td>Hj1Q1</td>\n",
       "      <td>sklearn.ensemble.forest.RandomForestClassifier</td>\n",
       "      <td>0.675676</td>\n",
       "      <td>(DecisionTreeClassifier(class_weight=None, cri...</td>\n",
       "      <td>{'bootstrap': False, 'max_depth': 10, 'max_fea...</td>\n",
       "      <td>None</td>\n",
       "    </tr>\n",
       "  </tbody>\n",
       "</table>\n",
       "</div>"
      ],
      "text/plain": [
       "           RUN_ID    EXP_ID TRIAL_ID  \\\n",
       "0  20200619204313  ukqCuWWK    NRpDi   \n",
       "1  20200619204313  ukqCuWWK    PKprl   \n",
       "2  20200619204313  ukqCuWWK    YhUB0   \n",
       "3  20200619204313  ukqCuWWK    cTsYo   \n",
       "4  20200619204313  ukqCuWWK    iOut2   \n",
       "5  20200619204313  ukqCuWWK    rpEoN   \n",
       "6  20200619204313  ukqCuWWK    Hj1Q1   \n",
       "\n",
       "                                        MODEL_KEY    METRIC  \\\n",
       "0  sklearn.ensemble.forest.RandomForestClassifier  0.702703   \n",
       "1  sklearn.ensemble.forest.RandomForestClassifier  0.702703   \n",
       "2  sklearn.ensemble.forest.RandomForestClassifier  0.702703   \n",
       "3  sklearn.ensemble.forest.RandomForestClassifier  0.702703   \n",
       "4  sklearn.ensemble.forest.RandomForestClassifier  0.702703   \n",
       "5  sklearn.ensemble.forest.RandomForestClassifier  0.702703   \n",
       "6  sklearn.ensemble.forest.RandomForestClassifier  0.675676   \n",
       "\n",
       "                                               MODEL  \\\n",
       "0  (DecisionTreeClassifier(class_weight=None, cri...   \n",
       "1  (DecisionTreeClassifier(class_weight=None, cri...   \n",
       "2  (DecisionTreeClassifier(class_weight=None, cri...   \n",
       "3  (DecisionTreeClassifier(class_weight=None, cri...   \n",
       "4  (DecisionTreeClassifier(class_weight=None, cri...   \n",
       "5  (DecisionTreeClassifier(class_weight=None, cri...   \n",
       "6  (DecisionTreeClassifier(class_weight=None, cri...   \n",
       "\n",
       "                                              PARAMS EXCEPTION  \n",
       "0  {'bootstrap': False, 'max_depth': 90, 'max_fea...      None  \n",
       "1  {'bootstrap': True, 'max_depth': 70, 'max_feat...      None  \n",
       "2  {'bootstrap': True, 'max_depth': 60, 'max_feat...      None  \n",
       "3  {'bootstrap': False, 'max_depth': 10, 'max_fea...      None  \n",
       "4  {'bootstrap': False, 'max_depth': 70, 'max_fea...      None  \n",
       "5  {'bootstrap': False, 'max_depth': 50, 'max_fea...      None  \n",
       "6  {'bootstrap': False, 'max_depth': 10, 'max_fea...      None  "
      ]
     },
     "execution_count": 10,
     "metadata": {},
     "output_type": "execute_result"
    }
   ],
   "source": [
    "all_trials = auto_classifier.get_all_trials()\n",
    "all_trials"
   ]
  },
  {
   "cell_type": "code",
   "execution_count": 11,
   "metadata": {
    "scrolled": true
   },
   "outputs": [
    {
     "data": {
      "text/plain": [
       "RUN_ID                                          20200619204313\n",
       "EXP_ID                                                ukqCuWWK\n",
       "TRIAL_ID                                                 NRpDi\n",
       "MODEL_KEY       sklearn.ensemble.forest.RandomForestClassifier\n",
       "METRIC                                                0.702703\n",
       "MODEL        (DecisionTreeClassifier(class_weight=None, cri...\n",
       "PARAMS       {'bootstrap': False, 'max_depth': 90, 'max_fea...\n",
       "EXCEPTION                                                 None\n",
       "Name: 0, dtype: object"
      ]
     },
     "execution_count": 11,
     "metadata": {},
     "output_type": "execute_result"
    }
   ],
   "source": [
    "best_model_details = auto_classifier.get_best_model_details()\n",
    "best_model_details"
   ]
  },
  {
   "cell_type": "code",
   "execution_count": 12,
   "metadata": {},
   "outputs": [
    {
     "data": {
      "text/html": [
       "<div>\n",
       "<style scoped>\n",
       "    .dataframe tbody tr th:only-of-type {\n",
       "        vertical-align: middle;\n",
       "    }\n",
       "\n",
       "    .dataframe tbody tr th {\n",
       "        vertical-align: top;\n",
       "    }\n",
       "\n",
       "    .dataframe thead th {\n",
       "        text-align: right;\n",
       "    }\n",
       "</style>\n",
       "<table border=\"1\" class=\"dataframe\">\n",
       "  <thead>\n",
       "    <tr style=\"text-align: right;\">\n",
       "      <th></th>\n",
       "      <th>Pclass</th>\n",
       "      <th>Age</th>\n",
       "      <th>SibSp</th>\n",
       "      <th>Parch</th>\n",
       "      <th>Fare</th>\n",
       "    </tr>\n",
       "  </thead>\n",
       "  <tbody>\n",
       "    <tr>\n",
       "      <th>1</th>\n",
       "      <td>1</td>\n",
       "      <td>38.0</td>\n",
       "      <td>1</td>\n",
       "      <td>0</td>\n",
       "      <td>71.2833</td>\n",
       "    </tr>\n",
       "    <tr>\n",
       "      <th>3</th>\n",
       "      <td>1</td>\n",
       "      <td>35.0</td>\n",
       "      <td>1</td>\n",
       "      <td>0</td>\n",
       "      <td>53.1000</td>\n",
       "    </tr>\n",
       "    <tr>\n",
       "      <th>6</th>\n",
       "      <td>1</td>\n",
       "      <td>54.0</td>\n",
       "      <td>0</td>\n",
       "      <td>0</td>\n",
       "      <td>51.8625</td>\n",
       "    </tr>\n",
       "    <tr>\n",
       "      <th>10</th>\n",
       "      <td>3</td>\n",
       "      <td>4.0</td>\n",
       "      <td>1</td>\n",
       "      <td>1</td>\n",
       "      <td>16.7000</td>\n",
       "    </tr>\n",
       "    <tr>\n",
       "      <th>11</th>\n",
       "      <td>1</td>\n",
       "      <td>58.0</td>\n",
       "      <td>0</td>\n",
       "      <td>0</td>\n",
       "      <td>26.5500</td>\n",
       "    </tr>\n",
       "  </tbody>\n",
       "</table>\n",
       "</div>"
      ],
      "text/plain": [
       "    Pclass   Age  SibSp  Parch     Fare\n",
       "1        1  38.0      1      0  71.2833\n",
       "3        1  35.0      1      0  53.1000\n",
       "6        1  54.0      0      0  51.8625\n",
       "10       3   4.0      1      1  16.7000\n",
       "11       1  58.0      0      0  26.5500"
      ]
     },
     "execution_count": 12,
     "metadata": {},
     "output_type": "execute_result"
    }
   ],
   "source": [
    "model = best_model_details['MODEL']\n",
    "X[0:5]"
   ]
  },
  {
   "cell_type": "code",
   "execution_count": 13,
   "metadata": {},
   "outputs": [
    {
     "data": {
      "text/plain": [
       "array([1, 1, 0, 1, 1], dtype=int64)"
      ]
     },
     "execution_count": 13,
     "metadata": {},
     "output_type": "execute_result"
    }
   ],
   "source": [
    "model.predict(X[0:5])"
   ]
  },
  {
   "cell_type": "markdown",
   "metadata": {},
   "source": [
    "# 3. Customized Run - Choose Model & Change Default Search Space"
   ]
  },
  {
   "cell_type": "code",
   "execution_count": 15,
   "metadata": {},
   "outputs": [
    {
     "name": "stderr",
     "output_type": "stream",
     "text": [
      "[I 200619 20:48:38 atml_impl:23] run_id: 20200619204838\n",
      "[I 200619 20:48:38 atml_impl:24] run_dir: C:\\Users\\Admin\\nni\\runs\\20200619204838\n",
      "[I 200619 20:48:38 atml_impl:25] with_default: True\n",
      "[I 200619 20:48:38 model_repo_manager:16] with_default: True\n",
      "[D 200619 20:48:38 nni_exec_manager:23] Default NNI Execution Config: {'base_port': '8080', 'concurrency': '8', 'max_duration': '30s', 'max_trials': '99999', 'training_platform': 'local', 'tuner': 'TPE', 'optimize_mode': 'maximize'}\n"
     ]
    }
   ],
   "source": [
    "auto_classifier = AtmlOrchestrator()"
   ]
  },
  {
   "cell_type": "code",
   "execution_count": 16,
   "metadata": {},
   "outputs": [
    {
     "data": {
      "text/plain": [
       "{'sklearn.ensemble.forest.RandomForestClassifier': {'bootstrap': {'_type': 'choice',\n",
       "   '_value': [True, False]},\n",
       "  'max_features': {'_type': 'choice', '_value': ['auto', 'sqrt']},\n",
       "  'max_depth': {'_type': 'choice',\n",
       "   '_value': [10, 20, 30, 40, 50, 60, 70, 80, 90, 100, 'None']},\n",
       "  'n_estimators': {'_type': 'choice',\n",
       "   '_value': [200, 400, 600, 800, 1000, 1200, 1400, 1600, 1800, 2000]},\n",
       "  'min_samples_leaf': {'_type': 'choice', '_value': [1, 2, 4]},\n",
       "  'min_samples_split': {'_type': 'choice', '_value': [2, 5, 10]}}}"
      ]
     },
     "execution_count": 16,
     "metadata": {},
     "output_type": "execute_result"
    }
   ],
   "source": [
    "auto_classifier.model_manager.repo"
   ]
  },
  {
   "cell_type": "code",
   "execution_count": 17,
   "metadata": {},
   "outputs": [],
   "source": [
    "# Optional\n",
    "from sklearn.ensemble.forest import RandomForestClassifier\n",
    "auto_classifier.choose_models([RandomForestClassifier()])"
   ]
  },
  {
   "cell_type": "code",
   "execution_count": 18,
   "metadata": {},
   "outputs": [],
   "source": [
    "# Optional\n",
    "auto_classifier.set_model_search_param(RandomForestClassifier(), 'max_depth', [2, 4, 8])"
   ]
  },
  {
   "cell_type": "code",
   "execution_count": 19,
   "metadata": {},
   "outputs": [
    {
     "data": {
      "text/plain": [
       "{'sklearn.ensemble.forest.RandomForestClassifier': {'bootstrap': {'_type': 'choice',\n",
       "   '_value': [True, False]},\n",
       "  'max_features': {'_type': 'choice', '_value': ['auto', 'sqrt']},\n",
       "  'max_depth': {'_type': 'choice', '_value': [2, 4, 8]},\n",
       "  'n_estimators': {'_type': 'choice',\n",
       "   '_value': [200, 400, 600, 800, 1000, 1200, 1400, 1600, 1800, 2000]},\n",
       "  'min_samples_leaf': {'_type': 'choice', '_value': [1, 2, 4]},\n",
       "  'min_samples_split': {'_type': 'choice', '_value': [2, 5, 10]}}}"
      ]
     },
     "execution_count": 19,
     "metadata": {},
     "output_type": "execute_result"
    }
   ],
   "source": [
    "auto_classifier.model_manager.repo"
   ]
  },
  {
   "cell_type": "code",
   "execution_count": 20,
   "metadata": {},
   "outputs": [
    {
     "name": "stderr",
     "output_type": "stream",
     "text": [
      "[I 200619 20:48:49 nni_exec_manager:50] Starting Hyperparameter Tuning with sklearn.ensemble.forest.RandomForestClassifier\n",
      "[I 200619 20:49:00 nni_exec_manager:100] http://localhost:8080 for sklearn.ensemble.forest.RandomForestClassifier Started\n"
     ]
    },
    {
     "name": "stdout",
     "output_type": "stream",
     "text": [
      "Experiment finished. 6 seconds taken. Number of trials succeeded: 8\n"
     ]
    },
    {
     "name": "stderr",
     "output_type": "stream",
     "text": [
      "[I 200619 20:49:42 nni_exec_manager:100] http://localhost:8080 for sklearn.ensemble.forest.RandomForestClassifier Stopped\n"
     ]
    }
   ],
   "source": [
    "auto_classifier.run(X, y)"
   ]
  },
  {
   "cell_type": "code",
   "execution_count": 21,
   "metadata": {},
   "outputs": [
    {
     "data": {
      "text/html": [
       "<div>\n",
       "<style scoped>\n",
       "    .dataframe tbody tr th:only-of-type {\n",
       "        vertical-align: middle;\n",
       "    }\n",
       "\n",
       "    .dataframe tbody tr th {\n",
       "        vertical-align: top;\n",
       "    }\n",
       "\n",
       "    .dataframe thead th {\n",
       "        text-align: right;\n",
       "    }\n",
       "</style>\n",
       "<table border=\"1\" class=\"dataframe\">\n",
       "  <thead>\n",
       "    <tr style=\"text-align: right;\">\n",
       "      <th></th>\n",
       "      <th>RUN_ID</th>\n",
       "      <th>EXP_ID</th>\n",
       "      <th>TRIAL_ID</th>\n",
       "      <th>MODEL_KEY</th>\n",
       "      <th>METRIC</th>\n",
       "      <th>MODEL</th>\n",
       "      <th>PARAMS</th>\n",
       "      <th>EXCEPTION</th>\n",
       "    </tr>\n",
       "  </thead>\n",
       "  <tbody>\n",
       "    <tr>\n",
       "      <th>0</th>\n",
       "      <td>20200619204838</td>\n",
       "      <td>jSTusAbz</td>\n",
       "      <td>D3cxR</td>\n",
       "      <td>sklearn.ensemble.forest.RandomForestClassifier</td>\n",
       "      <td>0.702703</td>\n",
       "      <td>(DecisionTreeClassifier(class_weight=None, cri...</td>\n",
       "      <td>{'bootstrap': True, 'max_depth': 4, 'max_featu...</td>\n",
       "      <td>None</td>\n",
       "    </tr>\n",
       "    <tr>\n",
       "      <th>1</th>\n",
       "      <td>20200619204838</td>\n",
       "      <td>jSTusAbz</td>\n",
       "      <td>OcY4F</td>\n",
       "      <td>sklearn.ensemble.forest.RandomForestClassifier</td>\n",
       "      <td>0.702703</td>\n",
       "      <td>(DecisionTreeClassifier(class_weight=None, cri...</td>\n",
       "      <td>{'bootstrap': True, 'max_depth': 8, 'max_featu...</td>\n",
       "      <td>None</td>\n",
       "    </tr>\n",
       "    <tr>\n",
       "      <th>2</th>\n",
       "      <td>20200619204838</td>\n",
       "      <td>jSTusAbz</td>\n",
       "      <td>P7ozR</td>\n",
       "      <td>sklearn.ensemble.forest.RandomForestClassifier</td>\n",
       "      <td>0.702703</td>\n",
       "      <td>(DecisionTreeClassifier(class_weight=None, cri...</td>\n",
       "      <td>{'bootstrap': True, 'max_depth': 4, 'max_featu...</td>\n",
       "      <td>None</td>\n",
       "    </tr>\n",
       "    <tr>\n",
       "      <th>3</th>\n",
       "      <td>20200619204838</td>\n",
       "      <td>jSTusAbz</td>\n",
       "      <td>klRFK</td>\n",
       "      <td>sklearn.ensemble.forest.RandomForestClassifier</td>\n",
       "      <td>0.702703</td>\n",
       "      <td>(DecisionTreeClassifier(class_weight=None, cri...</td>\n",
       "      <td>{'bootstrap': True, 'max_depth': 2, 'max_featu...</td>\n",
       "      <td>None</td>\n",
       "    </tr>\n",
       "    <tr>\n",
       "      <th>4</th>\n",
       "      <td>20200619204838</td>\n",
       "      <td>jSTusAbz</td>\n",
       "      <td>qc4oR</td>\n",
       "      <td>sklearn.ensemble.forest.RandomForestClassifier</td>\n",
       "      <td>0.702703</td>\n",
       "      <td>(DecisionTreeClassifier(class_weight=None, cri...</td>\n",
       "      <td>{'bootstrap': True, 'max_depth': 2, 'max_featu...</td>\n",
       "      <td>None</td>\n",
       "    </tr>\n",
       "    <tr>\n",
       "      <th>5</th>\n",
       "      <td>20200619204838</td>\n",
       "      <td>jSTusAbz</td>\n",
       "      <td>Omgm3</td>\n",
       "      <td>sklearn.ensemble.forest.RandomForestClassifier</td>\n",
       "      <td>0.675676</td>\n",
       "      <td>(DecisionTreeClassifier(class_weight=None, cri...</td>\n",
       "      <td>{'bootstrap': False, 'max_depth': 4, 'max_feat...</td>\n",
       "      <td>None</td>\n",
       "    </tr>\n",
       "    <tr>\n",
       "      <th>6</th>\n",
       "      <td>20200619204838</td>\n",
       "      <td>jSTusAbz</td>\n",
       "      <td>RBKmy</td>\n",
       "      <td>sklearn.ensemble.forest.RandomForestClassifier</td>\n",
       "      <td>0.648649</td>\n",
       "      <td>(DecisionTreeClassifier(class_weight=None, cri...</td>\n",
       "      <td>{'bootstrap': False, 'max_depth': 8, 'max_feat...</td>\n",
       "      <td>None</td>\n",
       "    </tr>\n",
       "    <tr>\n",
       "      <th>7</th>\n",
       "      <td>20200619204838</td>\n",
       "      <td>jSTusAbz</td>\n",
       "      <td>ywFvc</td>\n",
       "      <td>sklearn.ensemble.forest.RandomForestClassifier</td>\n",
       "      <td>0.648649</td>\n",
       "      <td>(DecisionTreeClassifier(class_weight=None, cri...</td>\n",
       "      <td>{'bootstrap': False, 'max_depth': 8, 'max_feat...</td>\n",
       "      <td>None</td>\n",
       "    </tr>\n",
       "  </tbody>\n",
       "</table>\n",
       "</div>"
      ],
      "text/plain": [
       "           RUN_ID    EXP_ID TRIAL_ID  \\\n",
       "0  20200619204838  jSTusAbz    D3cxR   \n",
       "1  20200619204838  jSTusAbz    OcY4F   \n",
       "2  20200619204838  jSTusAbz    P7ozR   \n",
       "3  20200619204838  jSTusAbz    klRFK   \n",
       "4  20200619204838  jSTusAbz    qc4oR   \n",
       "5  20200619204838  jSTusAbz    Omgm3   \n",
       "6  20200619204838  jSTusAbz    RBKmy   \n",
       "7  20200619204838  jSTusAbz    ywFvc   \n",
       "\n",
       "                                        MODEL_KEY    METRIC  \\\n",
       "0  sklearn.ensemble.forest.RandomForestClassifier  0.702703   \n",
       "1  sklearn.ensemble.forest.RandomForestClassifier  0.702703   \n",
       "2  sklearn.ensemble.forest.RandomForestClassifier  0.702703   \n",
       "3  sklearn.ensemble.forest.RandomForestClassifier  0.702703   \n",
       "4  sklearn.ensemble.forest.RandomForestClassifier  0.702703   \n",
       "5  sklearn.ensemble.forest.RandomForestClassifier  0.675676   \n",
       "6  sklearn.ensemble.forest.RandomForestClassifier  0.648649   \n",
       "7  sklearn.ensemble.forest.RandomForestClassifier  0.648649   \n",
       "\n",
       "                                               MODEL  \\\n",
       "0  (DecisionTreeClassifier(class_weight=None, cri...   \n",
       "1  (DecisionTreeClassifier(class_weight=None, cri...   \n",
       "2  (DecisionTreeClassifier(class_weight=None, cri...   \n",
       "3  (DecisionTreeClassifier(class_weight=None, cri...   \n",
       "4  (DecisionTreeClassifier(class_weight=None, cri...   \n",
       "5  (DecisionTreeClassifier(class_weight=None, cri...   \n",
       "6  (DecisionTreeClassifier(class_weight=None, cri...   \n",
       "7  (DecisionTreeClassifier(class_weight=None, cri...   \n",
       "\n",
       "                                              PARAMS EXCEPTION  \n",
       "0  {'bootstrap': True, 'max_depth': 4, 'max_featu...      None  \n",
       "1  {'bootstrap': True, 'max_depth': 8, 'max_featu...      None  \n",
       "2  {'bootstrap': True, 'max_depth': 4, 'max_featu...      None  \n",
       "3  {'bootstrap': True, 'max_depth': 2, 'max_featu...      None  \n",
       "4  {'bootstrap': True, 'max_depth': 2, 'max_featu...      None  \n",
       "5  {'bootstrap': False, 'max_depth': 4, 'max_feat...      None  \n",
       "6  {'bootstrap': False, 'max_depth': 8, 'max_feat...      None  \n",
       "7  {'bootstrap': False, 'max_depth': 8, 'max_feat...      None  "
      ]
     },
     "execution_count": 21,
     "metadata": {},
     "output_type": "execute_result"
    }
   ],
   "source": [
    "trials = auto_classifier.get_all_trials()\n",
    "trials"
   ]
  },
  {
   "cell_type": "code",
   "execution_count": 22,
   "metadata": {},
   "outputs": [
    {
     "data": {
      "text/plain": [
       "RUN_ID                                          20200619204838\n",
       "EXP_ID                                                jSTusAbz\n",
       "TRIAL_ID                                                 D3cxR\n",
       "MODEL_KEY       sklearn.ensemble.forest.RandomForestClassifier\n",
       "METRIC                                                0.702703\n",
       "MODEL        (DecisionTreeClassifier(class_weight=None, cri...\n",
       "PARAMS       {'bootstrap': True, 'max_depth': 4, 'max_featu...\n",
       "EXCEPTION                                                 None\n",
       "Name: 0, dtype: object"
      ]
     },
     "execution_count": 22,
     "metadata": {},
     "output_type": "execute_result"
    }
   ],
   "source": [
    "auto_classifier.get_best_model_details()"
   ]
  },
  {
   "cell_type": "markdown",
   "metadata": {},
   "source": [
    "# 4. Customized Run - Parallel Run"
   ]
  },
  {
   "cell_type": "code",
   "execution_count": 23,
   "metadata": {},
   "outputs": [
    {
     "name": "stderr",
     "output_type": "stream",
     "text": [
      "[I 200619 20:49:47 atml_impl:23] run_id: 20200619204947\n",
      "[I 200619 20:49:47 atml_impl:24] run_dir: C:\\Users\\Admin\\nni\\runs\\20200619204947\n",
      "[I 200619 20:49:47 atml_impl:25] with_default: True\n",
      "[I 200619 20:49:47 model_repo_manager:16] with_default: True\n",
      "[D 200619 20:49:47 nni_exec_manager:23] Default NNI Execution Config: {'base_port': '8080', 'concurrency': '8', 'max_duration': '30s', 'max_trials': '99999', 'training_platform': 'local', 'tuner': 'TPE', 'optimize_mode': 'maximize'}\n"
     ]
    }
   ],
   "source": [
    "auto_classifier = AtmlOrchestrator()"
   ]
  },
  {
   "cell_type": "code",
   "execution_count": 24,
   "metadata": {},
   "outputs": [
    {
     "data": {
      "text/plain": [
       "{'sklearn.ensemble.forest.RandomForestClassifier': {'bootstrap': {'_type': 'choice',\n",
       "   '_value': [True, False]},\n",
       "  'max_features': {'_type': 'choice', '_value': ['auto', 'sqrt']},\n",
       "  'max_depth': {'_type': 'choice',\n",
       "   '_value': [10, 20, 30, 40, 50, 60, 70, 80, 90, 100, 'None']},\n",
       "  'n_estimators': {'_type': 'choice',\n",
       "   '_value': [200, 400, 600, 800, 1000, 1200, 1400, 1600, 1800, 2000]},\n",
       "  'min_samples_leaf': {'_type': 'choice', '_value': [1, 2, 4]},\n",
       "  'min_samples_split': {'_type': 'choice', '_value': [2, 5, 10]}}}"
      ]
     },
     "execution_count": 24,
     "metadata": {},
     "output_type": "execute_result"
    }
   ],
   "source": [
    "auto_classifier.get_available_models_and_spaces()"
   ]
  },
  {
   "cell_type": "code",
   "execution_count": 25,
   "metadata": {},
   "outputs": [],
   "source": [
    "auto_classifier.choose_models([RandomForestClassifier()])"
   ]
  },
  {
   "cell_type": "code",
   "execution_count": 26,
   "metadata": {},
   "outputs": [],
   "source": [
    "# Optional to run in parallel\n",
    "auto_classifier.set_exec_config_param('concurrency', '3')"
   ]
  },
  {
   "cell_type": "code",
   "execution_count": 27,
   "metadata": {},
   "outputs": [
    {
     "data": {
      "text/plain": [
       "{'base_port': '8080',\n",
       " 'concurrency': '3',\n",
       " 'max_duration': '30s',\n",
       " 'max_trials': '99999',\n",
       " 'training_platform': 'local',\n",
       " 'tuner': 'TPE',\n",
       " 'optimize_mode': 'maximize'}"
      ]
     },
     "execution_count": 27,
     "metadata": {},
     "output_type": "execute_result"
    }
   ],
   "source": [
    "auto_classifier.nni_executor.exec_config"
   ]
  },
  {
   "cell_type": "code",
   "execution_count": 28,
   "metadata": {},
   "outputs": [
    {
     "name": "stderr",
     "output_type": "stream",
     "text": [
      "[I 200619 20:49:51 nni_exec_manager:50] Starting Hyperparameter Tuning with sklearn.ensemble.forest.RandomForestClassifier\n",
      "[I 200619 20:50:02 nni_exec_manager:100] http://localhost:8080 for sklearn.ensemble.forest.RandomForestClassifier Started\n"
     ]
    },
    {
     "name": "stdout",
     "output_type": "stream",
     "text": [
      "Experiment finished. 6 seconds taken. Number of trials succeeded: 3\n"
     ]
    },
    {
     "name": "stderr",
     "output_type": "stream",
     "text": [
      "[I 200619 20:50:43 nni_exec_manager:100] http://localhost:8080 for sklearn.ensemble.forest.RandomForestClassifier Stopped\n"
     ]
    }
   ],
   "source": [
    "auto_classifier.run(X, y)"
   ]
  },
  {
   "cell_type": "code",
   "execution_count": 29,
   "metadata": {},
   "outputs": [
    {
     "data": {
      "text/html": [
       "<div>\n",
       "<style scoped>\n",
       "    .dataframe tbody tr th:only-of-type {\n",
       "        vertical-align: middle;\n",
       "    }\n",
       "\n",
       "    .dataframe tbody tr th {\n",
       "        vertical-align: top;\n",
       "    }\n",
       "\n",
       "    .dataframe thead th {\n",
       "        text-align: right;\n",
       "    }\n",
       "</style>\n",
       "<table border=\"1\" class=\"dataframe\">\n",
       "  <thead>\n",
       "    <tr style=\"text-align: right;\">\n",
       "      <th></th>\n",
       "      <th>RUN_ID</th>\n",
       "      <th>EXP_ID</th>\n",
       "      <th>TRIAL_ID</th>\n",
       "      <th>MODEL_KEY</th>\n",
       "      <th>METRIC</th>\n",
       "      <th>MODEL</th>\n",
       "      <th>PARAMS</th>\n",
       "      <th>EXCEPTION</th>\n",
       "    </tr>\n",
       "  </thead>\n",
       "  <tbody>\n",
       "    <tr>\n",
       "      <th>0</th>\n",
       "      <td>20200619204947</td>\n",
       "      <td>uSZJT1cQ</td>\n",
       "      <td>dVWhk</td>\n",
       "      <td>sklearn.ensemble.forest.RandomForestClassifier</td>\n",
       "      <td>0.702703</td>\n",
       "      <td>(DecisionTreeClassifier(class_weight=None, cri...</td>\n",
       "      <td>{'bootstrap': False, 'max_depth': 50, 'max_fea...</td>\n",
       "      <td>None</td>\n",
       "    </tr>\n",
       "    <tr>\n",
       "      <th>1</th>\n",
       "      <td>20200619204947</td>\n",
       "      <td>uSZJT1cQ</td>\n",
       "      <td>dq3wD</td>\n",
       "      <td>sklearn.ensemble.forest.RandomForestClassifier</td>\n",
       "      <td>0.702703</td>\n",
       "      <td>(DecisionTreeClassifier(class_weight=None, cri...</td>\n",
       "      <td>{'bootstrap': True, 'max_depth': 40, 'max_feat...</td>\n",
       "      <td>None</td>\n",
       "    </tr>\n",
       "    <tr>\n",
       "      <th>2</th>\n",
       "      <td>20200619204947</td>\n",
       "      <td>uSZJT1cQ</td>\n",
       "      <td>pXWpy</td>\n",
       "      <td>sklearn.ensemble.forest.RandomForestClassifier</td>\n",
       "      <td>0.702703</td>\n",
       "      <td>(DecisionTreeClassifier(class_weight=None, cri...</td>\n",
       "      <td>{'bootstrap': True, 'max_depth': 70, 'max_feat...</td>\n",
       "      <td>None</td>\n",
       "    </tr>\n",
       "    <tr>\n",
       "      <th>3</th>\n",
       "      <td>20200619204947</td>\n",
       "      <td>uSZJT1cQ</td>\n",
       "      <td>diTdo</td>\n",
       "      <td>sklearn.ensemble.forest.RandomForestClassifier</td>\n",
       "      <td>0.675676</td>\n",
       "      <td>(DecisionTreeClassifier(class_weight=None, cri...</td>\n",
       "      <td>{'bootstrap': False, 'max_depth': 100, 'max_fe...</td>\n",
       "      <td>None</td>\n",
       "    </tr>\n",
       "    <tr>\n",
       "      <th>4</th>\n",
       "      <td>20200619204947</td>\n",
       "      <td>uSZJT1cQ</td>\n",
       "      <td>gmTwe</td>\n",
       "      <td>sklearn.ensemble.forest.RandomForestClassifier</td>\n",
       "      <td>0.648649</td>\n",
       "      <td>(DecisionTreeClassifier(class_weight=None, cri...</td>\n",
       "      <td>{'bootstrap': True, 'max_depth': 10, 'max_feat...</td>\n",
       "      <td>None</td>\n",
       "    </tr>\n",
       "    <tr>\n",
       "      <th>5</th>\n",
       "      <td>20200619204947</td>\n",
       "      <td>uSZJT1cQ</td>\n",
       "      <td>hJfQe</td>\n",
       "      <td>sklearn.ensemble.forest.RandomForestClassifier</td>\n",
       "      <td>0.621622</td>\n",
       "      <td>(DecisionTreeClassifier(class_weight=None, cri...</td>\n",
       "      <td>{'bootstrap': False, 'max_depth': 70, 'max_fea...</td>\n",
       "      <td>None</td>\n",
       "    </tr>\n",
       "  </tbody>\n",
       "</table>\n",
       "</div>"
      ],
      "text/plain": [
       "           RUN_ID    EXP_ID TRIAL_ID  \\\n",
       "0  20200619204947  uSZJT1cQ    dVWhk   \n",
       "1  20200619204947  uSZJT1cQ    dq3wD   \n",
       "2  20200619204947  uSZJT1cQ    pXWpy   \n",
       "3  20200619204947  uSZJT1cQ    diTdo   \n",
       "4  20200619204947  uSZJT1cQ    gmTwe   \n",
       "5  20200619204947  uSZJT1cQ    hJfQe   \n",
       "\n",
       "                                        MODEL_KEY    METRIC  \\\n",
       "0  sklearn.ensemble.forest.RandomForestClassifier  0.702703   \n",
       "1  sklearn.ensemble.forest.RandomForestClassifier  0.702703   \n",
       "2  sklearn.ensemble.forest.RandomForestClassifier  0.702703   \n",
       "3  sklearn.ensemble.forest.RandomForestClassifier  0.675676   \n",
       "4  sklearn.ensemble.forest.RandomForestClassifier  0.648649   \n",
       "5  sklearn.ensemble.forest.RandomForestClassifier  0.621622   \n",
       "\n",
       "                                               MODEL  \\\n",
       "0  (DecisionTreeClassifier(class_weight=None, cri...   \n",
       "1  (DecisionTreeClassifier(class_weight=None, cri...   \n",
       "2  (DecisionTreeClassifier(class_weight=None, cri...   \n",
       "3  (DecisionTreeClassifier(class_weight=None, cri...   \n",
       "4  (DecisionTreeClassifier(class_weight=None, cri...   \n",
       "5  (DecisionTreeClassifier(class_weight=None, cri...   \n",
       "\n",
       "                                              PARAMS EXCEPTION  \n",
       "0  {'bootstrap': False, 'max_depth': 50, 'max_fea...      None  \n",
       "1  {'bootstrap': True, 'max_depth': 40, 'max_feat...      None  \n",
       "2  {'bootstrap': True, 'max_depth': 70, 'max_feat...      None  \n",
       "3  {'bootstrap': False, 'max_depth': 100, 'max_fe...      None  \n",
       "4  {'bootstrap': True, 'max_depth': 10, 'max_feat...      None  \n",
       "5  {'bootstrap': False, 'max_depth': 70, 'max_fea...      None  "
      ]
     },
     "execution_count": 29,
     "metadata": {},
     "output_type": "execute_result"
    }
   ],
   "source": [
    "trials = auto_classifier.get_all_trials()\n",
    "trials"
   ]
  },
  {
   "cell_type": "code",
   "execution_count": 30,
   "metadata": {},
   "outputs": [
    {
     "data": {
      "text/plain": [
       "RandomForestClassifier(bootstrap=False, class_weight=None, criterion='gini',\n",
       "                       max_depth=50, max_features='sqrt', max_leaf_nodes=None,\n",
       "                       min_impurity_decrease=0.0, min_impurity_split=None,\n",
       "                       min_samples_leaf=4, min_samples_split=10,\n",
       "                       min_weight_fraction_leaf=0.0, n_estimators=1200,\n",
       "                       n_jobs=None, oob_score=False, random_state=None,\n",
       "                       verbose=0, warm_start=False)"
      ]
     },
     "execution_count": 30,
     "metadata": {},
     "output_type": "execute_result"
    }
   ],
   "source": [
    "auto_classifier.get_best_model_details()['MODEL']"
   ]
  }
 ],
 "metadata": {
  "kernelspec": {
   "display_name": "Python 3",
   "language": "python",
   "name": "python3"
  },
  "language_info": {
   "codemirror_mode": {
    "name": "ipython",
    "version": 3
   },
   "file_extension": ".py",
   "mimetype": "text/x-python",
   "name": "python",
   "nbconvert_exporter": "python",
   "pygments_lexer": "ipython3",
   "version": "3.7.7"
  }
 },
 "nbformat": 4,
 "nbformat_minor": 4
}
